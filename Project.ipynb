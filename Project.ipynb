{
 "cells": [
  {
   "cell_type": "code",
   "execution_count": 1,
   "id": "05dcc511",
   "metadata": {},
   "outputs": [
    {
     "ename": "KeyboardInterrupt",
     "evalue": "",
     "output_type": "error",
     "traceback": [
      "\u001b[1;31m---------------------------------------------------------------------------\u001b[0m",
      "\u001b[1;31mKeyboardInterrupt\u001b[0m                         Traceback (most recent call last)",
      "\u001b[1;32m~\\AppData\\Local\\Temp/ipykernel_10932/2713548984.py\u001b[0m in \u001b[0;36m<module>\u001b[1;34m\u001b[0m\n\u001b[0;32m     19\u001b[0m     \u001b[0mpath\u001b[0m\u001b[1;33m=\u001b[0m\u001b[0mos\u001b[0m\u001b[1;33m.\u001b[0m\u001b[0mpath\u001b[0m\u001b[1;33m.\u001b[0m\u001b[0mjoin\u001b[0m\u001b[1;33m(\u001b[0m\u001b[0mdatadir\u001b[0m\u001b[1;33m,\u001b[0m\u001b[0mcategories\u001b[0m\u001b[1;33m[\u001b[0m\u001b[0mi\u001b[0m\u001b[1;33m-\u001b[0m\u001b[1;36m1\u001b[0m\u001b[1;33m]\u001b[0m\u001b[1;33m)\u001b[0m\u001b[1;33m\u001b[0m\u001b[1;33m\u001b[0m\u001b[0m\n\u001b[0;32m     20\u001b[0m     \u001b[1;32mfor\u001b[0m \u001b[0ma\u001b[0m \u001b[1;32min\u001b[0m \u001b[0mos\u001b[0m\u001b[1;33m.\u001b[0m\u001b[0mlistdir\u001b[0m\u001b[1;33m(\u001b[0m\u001b[0mpath\u001b[0m\u001b[1;33m)\u001b[0m\u001b[1;33m:\u001b[0m\u001b[1;33m\u001b[0m\u001b[1;33m\u001b[0m\u001b[0m\n\u001b[1;32m---> 21\u001b[1;33m         \u001b[0mimage\u001b[0m\u001b[1;33m=\u001b[0m\u001b[0mImage\u001b[0m\u001b[1;33m.\u001b[0m\u001b[0mopen\u001b[0m\u001b[1;33m(\u001b[0m\u001b[0mpath\u001b[0m\u001b[1;33m+\u001b[0m\u001b[1;34m'\\\\'\u001b[0m\u001b[1;33m+\u001b[0m\u001b[0ma\u001b[0m\u001b[1;33m)\u001b[0m\u001b[1;33m\u001b[0m\u001b[1;33m\u001b[0m\u001b[0m\n\u001b[0m\u001b[0;32m     22\u001b[0m         \u001b[0mimage\u001b[0m\u001b[1;33m=\u001b[0m\u001b[0mimage\u001b[0m\u001b[1;33m.\u001b[0m\u001b[0mresize\u001b[0m\u001b[1;33m(\u001b[0m\u001b[1;33m(\u001b[0m\u001b[1;36m30\u001b[0m\u001b[1;33m,\u001b[0m\u001b[1;36m30\u001b[0m\u001b[1;33m)\u001b[0m\u001b[1;33m)\u001b[0m\u001b[1;33m\u001b[0m\u001b[1;33m\u001b[0m\u001b[0m\n\u001b[0;32m     23\u001b[0m         \u001b[0mimage\u001b[0m\u001b[1;33m=\u001b[0m\u001b[0mnp\u001b[0m\u001b[1;33m.\u001b[0m\u001b[0marray\u001b[0m\u001b[1;33m(\u001b[0m\u001b[0mimage\u001b[0m\u001b[1;33m)\u001b[0m\u001b[1;33m\u001b[0m\u001b[1;33m\u001b[0m\u001b[0m\n",
      "\u001b[1;32mc:\\users\\91930\\appdata\\local\\programs\\python\\python39\\lib\\site-packages\\PIL\\Image.py\u001b[0m in \u001b[0;36mopen\u001b[1;34m(fp, mode, formats)\u001b[0m\n\u001b[0;32m   2966\u001b[0m \u001b[1;33m\u001b[0m\u001b[0m\n\u001b[0;32m   2967\u001b[0m     \u001b[1;32mif\u001b[0m \u001b[0mfilename\u001b[0m\u001b[1;33m:\u001b[0m\u001b[1;33m\u001b[0m\u001b[1;33m\u001b[0m\u001b[0m\n\u001b[1;32m-> 2968\u001b[1;33m         \u001b[0mfp\u001b[0m \u001b[1;33m=\u001b[0m \u001b[0mbuiltins\u001b[0m\u001b[1;33m.\u001b[0m\u001b[0mopen\u001b[0m\u001b[1;33m(\u001b[0m\u001b[0mfilename\u001b[0m\u001b[1;33m,\u001b[0m \u001b[1;34m\"rb\"\u001b[0m\u001b[1;33m)\u001b[0m\u001b[1;33m\u001b[0m\u001b[1;33m\u001b[0m\u001b[0m\n\u001b[0m\u001b[0;32m   2969\u001b[0m         \u001b[0mexclusive_fp\u001b[0m \u001b[1;33m=\u001b[0m \u001b[1;32mTrue\u001b[0m\u001b[1;33m\u001b[0m\u001b[1;33m\u001b[0m\u001b[0m\n\u001b[0;32m   2970\u001b[0m \u001b[1;33m\u001b[0m\u001b[0m\n",
      "\u001b[1;31mKeyboardInterrupt\u001b[0m: "
     ]
    }
   ],
   "source": [
    "import tensorflow as tf\n",
    "import numpy as np\n",
    "import matplotlib.pyplot as plt\n",
    "import tensorflow as tf\n",
    "import os\n",
    "from PIL import Image\n",
    "\n",
    "from tensorflow.keras.utils import to_categorical\n",
    "from sklearn.model_selection import train_test_split\n",
    "from keras.models import Sequential\n",
    "from keras.layers import Conv2D,MaxPool2D,Dense,Flatten,Dropout,GaussianNoise\n",
    "from tensorflow.keras.models import Sequential, save_model, load_model\n",
    "data=[]\n",
    "labels=[]\n",
    "classes=38\n",
    "datadir=\"D:/train\"\n",
    "categories=[\"Apple___Apple_scab\",\"Apple___Black_rot\",\"Apple___Cedar_apple_rust\",\"Apple___healthy\",\"Blueberry___healthy\",\"Cherry_(including_sour)___healthy\",\"Cherry_(including_sour)___Powdery_mildew\",\"Corn_(maize)___Cercospora_leaf_spot Gray_leaf_spot\",\"Corn_(maize)___Common_rust_\",\"Corn_(maize)___healthy\",\"Corn_(maize)___Northern_Leaf_Blight\",\"Grape___Black_rot\",\"Grape___Esca_(Black_Measles)\",\"Grape___healthy\",\"Grape___Leaf_blight_(Isariopsis_Leaf_Spot)\",\"Orange___Haunglongbing_(Citrus_greening)\",\"Peach___Bacterial_spot\",\"Peach___healthy\",\"Pepper,_bell___Bacterial_spot\",\"Pepper,_bell___healthy\",\"Potato___Early_blight\",\"Potato___healthy\",\"Potato___Late_blight\",\"Raspberry___healthy\",\"Soybean___healthy\",\"Squash___Powdery_mildew\",\"Strawberry___healthy\",\"Strawberry___Leaf_scorch\",\"Tomato___Bacterial_spot\",\"Tomato___Early_blight\",\"Tomato___healthy\",\"Tomato___Late_blight\",\"Tomato___Leaf_Mold\",\"Tomato___Septoria_leaf_spot\",\"Tomato___Spider_mites Two-spotted_spider_mite\",\"Tomato___Target_Spot\",\"Tomato___Tomato_mosaic_virus\",\"Tomato___Tomato_Yellow_Leaf_Curl_Virus\"]\n",
    "for i in range(classes):\n",
    "    path=os.path.join(datadir,categories[i-1])\n",
    "    for a in os.listdir(path):\n",
    "        image=Image.open(path+'\\\\'+a)\n",
    "        image=image.resize((30,30))\n",
    "        image=np.array(image)\n",
    "        data.append(image)\n",
    "        #print(len(data))\n",
    "        #print(data)\n",
    "        labels.append(i)\n",
    "        #plt.imshow(image)\n",
    "        #plt.show()\n",
    "data=np.array(data)\n",
    "labels=np.array(labels)\n",
    "print(data.shape,labels.shape)\n",
    "      \n",
    "        \n",
    "X_train,X_test,y_train,y_test=train_test_split(data,labels,test_size=0.2,random_state=42)\n",
    "print(X_train.shape,X_test.shape,y_train.shape,y_test.shape)\n",
    "y_train=to_categorical(y_train,38)\n",
    "y_test=to_categorical(y_test,38)\n",
    "\n",
    "model=Sequential()\n",
    "\n",
    "model.add(Conv2D(filters=16,kernel_size=(3,3),activation='relu',input_shape=(30,30,3)))\n",
    "model.add(MaxPool2D(pool_size=(2,2)))\n",
    "\n",
    "model.add(Conv2D(filters=32,kernel_size=(3,3),activation='relu'))\n",
    "model.add(MaxPool2D(pool_size=(2,2)))\n",
    "model.add(Dropout(rate=0.2))\n",
    "\n",
    "model.add(Conv2D(filters=64,kernel_size=(3,3),activation='relu'))\n",
    "model.add(MaxPool2D(pool_size=(2,2)))\n",
    "model.add(Dropout(rate=0.2))\n",
    "\n",
    "\n",
    "model.add(Flatten())\n",
    "\n",
    "model.add(Dense(256,activation='relu'))\n",
    "model.add(GaussianNoise(0.1))\n",
    "model.add(Dropout(rate=0.25))\n",
    "model.add(Dense(38,activation='softmax'))\n",
    "\n",
    "model.compile(loss='categorical_crossentropy',optimizer='adam',metrics=['accuracy'])\n",
    "epochs=25\n",
    "history=model.fit(X_train,y_train,batch_size=64,epochs=epochs,validation_data=(X_test,y_test))\n",
    "model.save(\"my_model1.h5\")"
   ]
  },
  {
   "cell_type": "code",
   "execution_count": 2,
   "id": "ebc0523c",
   "metadata": {},
   "outputs": [
    {
     "name": "stdout",
     "output_type": "stream",
     "text": [
      "(87867, 30, 30, 3) (87867,)\n",
      "(70293, 30, 30, 3) (17574, 30, 30, 3) (70293,) (17574,)\n",
      "Epoch 1/25\n",
      "1099/1099 [==============================] - 23s 21ms/step - loss: 3.5147 - accuracy: 0.1230 - val_loss: 1.9657 - val_accuracy: 0.4467\n",
      "Epoch 2/25\n",
      "1099/1099 [==============================] - 23s 21ms/step - loss: 1.7972 - accuracy: 0.4675 - val_loss: 1.0883 - val_accuracy: 0.6767\n",
      "Epoch 3/25\n",
      "1099/1099 [==============================] - 23s 21ms/step - loss: 1.3196 - accuracy: 0.5999 - val_loss: 0.8453 - val_accuracy: 0.7459\n",
      "Epoch 4/25\n",
      "1099/1099 [==============================] - 23s 21ms/step - loss: 1.1016 - accuracy: 0.6599 - val_loss: 0.7410 - val_accuracy: 0.7706\n",
      "Epoch 5/25\n",
      "1099/1099 [==============================] - 23s 21ms/step - loss: 0.9662 - accuracy: 0.7000 - val_loss: 0.6161 - val_accuracy: 0.8089\n",
      "Epoch 6/25\n",
      "1099/1099 [==============================] - 23s 21ms/step - loss: 0.8878 - accuracy: 0.7245 - val_loss: 0.5655 - val_accuracy: 0.8235\n",
      "Epoch 7/25\n",
      "1099/1099 [==============================] - 23s 21ms/step - loss: 0.8351 - accuracy: 0.7401 - val_loss: 0.5129 - val_accuracy: 0.8399\n",
      "Epoch 8/25\n",
      "1099/1099 [==============================] - 23s 21ms/step - loss: 0.7848 - accuracy: 0.7531 - val_loss: 0.4512 - val_accuracy: 0.8569\n",
      "Epoch 9/25\n",
      "1099/1099 [==============================] - 23s 21ms/step - loss: 0.7433 - accuracy: 0.7664 - val_loss: 0.5359 - val_accuracy: 0.8275\n",
      "Epoch 10/25\n",
      "1099/1099 [==============================] - 25s 22ms/step - loss: 0.7260 - accuracy: 0.7715 - val_loss: 0.4355 - val_accuracy: 0.8621\n",
      "Epoch 11/25\n",
      "1099/1099 [==============================] - 23s 21ms/step - loss: 0.6970 - accuracy: 0.7777 - val_loss: 0.4671 - val_accuracy: 0.8557\n",
      "Epoch 12/25\n",
      "1099/1099 [==============================] - 23s 21ms/step - loss: 0.6729 - accuracy: 0.7890 - val_loss: 0.4426 - val_accuracy: 0.8558\n",
      "Epoch 13/25\n",
      "1099/1099 [==============================] - 23s 21ms/step - loss: 0.6603 - accuracy: 0.7924 - val_loss: 0.3853 - val_accuracy: 0.8761\n",
      "Epoch 14/25\n",
      "1099/1099 [==============================] - 23s 21ms/step - loss: 0.6502 - accuracy: 0.7954 - val_loss: 0.4487 - val_accuracy: 0.8576\n",
      "Epoch 15/25\n",
      "1099/1099 [==============================] - 23s 21ms/step - loss: 0.6209 - accuracy: 0.8038 - val_loss: 0.4095 - val_accuracy: 0.8659\n",
      "Epoch 16/25\n",
      "1099/1099 [==============================] - 23s 21ms/step - loss: 0.6139 - accuracy: 0.8064 - val_loss: 0.3855 - val_accuracy: 0.8785\n",
      "Epoch 17/25\n",
      "1099/1099 [==============================] - 23s 21ms/step - loss: 0.6065 - accuracy: 0.8083 - val_loss: 0.3511 - val_accuracy: 0.8877\n",
      "Epoch 18/25\n",
      "1099/1099 [==============================] - 23s 21ms/step - loss: 0.5993 - accuracy: 0.8112 - val_loss: 0.3747 - val_accuracy: 0.8824\n",
      "Epoch 19/25\n",
      "1099/1099 [==============================] - 23s 21ms/step - loss: 0.5936 - accuracy: 0.8132 - val_loss: 0.3957 - val_accuracy: 0.8726\n",
      "Epoch 20/25\n",
      "1099/1099 [==============================] - 23s 21ms/step - loss: 0.5877 - accuracy: 0.8142 - val_loss: 0.3778 - val_accuracy: 0.8798\n",
      "Epoch 21/25\n",
      "1099/1099 [==============================] - 23s 21ms/step - loss: 0.5800 - accuracy: 0.8174 - val_loss: 0.3403 - val_accuracy: 0.8909\n",
      "Epoch 22/25\n",
      "1099/1099 [==============================] - 23s 21ms/step - loss: 0.5675 - accuracy: 0.8187 - val_loss: 0.3436 - val_accuracy: 0.8881\n",
      "Epoch 23/25\n",
      "1099/1099 [==============================] - 23s 21ms/step - loss: 0.5602 - accuracy: 0.8233 - val_loss: 0.4354 - val_accuracy: 0.8617\n",
      "Epoch 24/25\n",
      "1099/1099 [==============================] - 23s 21ms/step - loss: 0.5575 - accuracy: 0.8255 - val_loss: 0.3867 - val_accuracy: 0.8772\n",
      "Epoch 25/25\n",
      "1099/1099 [==============================] - 23s 21ms/step - loss: 0.5562 - accuracy: 0.8240 - val_loss: 0.3572 - val_accuracy: 0.8830\n"
     ]
    }
   ],
   "source": [
    "import tensorflow as tf\n",
    "import numpy as np\n",
    "import matplotlib.pyplot as plt\n",
    "import tensorflow as tf\n",
    "import os\n",
    "from PIL import Image\n",
    "\n",
    "from tensorflow.keras.utils import to_categorical\n",
    "from sklearn.model_selection import train_test_split\n",
    "from keras.models import Sequential\n",
    "from keras.layers import Conv2D,MaxPool2D,Dense,Flatten,Dropout,GaussianNoise\n",
    "from tensorflow.keras.models import Sequential, save_model, load_model\n",
    "data=[]\n",
    "labels=[]\n",
    "classes=38\n",
    "datadir=\"D:/train\"\n",
    "categories=[\"Apple___Apple_scab\",\"Apple___Black_rot\",\"Apple___Cedar_apple_rust\",\"Apple___healthy\",\"Blueberry___healthy\",\"Cherry_(including_sour)___healthy\",\"Cherry_(including_sour)___Powdery_mildew\",\"Corn_(maize)___Cercospora_leaf_spot Gray_leaf_spot\",\"Corn_(maize)___Common_rust_\",\"Corn_(maize)___healthy\",\"Corn_(maize)___Northern_Leaf_Blight\",\"Grape___Black_rot\",\"Grape___Esca_(Black_Measles)\",\"Grape___healthy\",\"Grape___Leaf_blight_(Isariopsis_Leaf_Spot)\",\"Orange___Haunglongbing_(Citrus_greening)\",\"Peach___Bacterial_spot\",\"Peach___healthy\",\"Pepper,_bell___Bacterial_spot\",\"Pepper,_bell___healthy\",\"Potato___Early_blight\",\"Potato___healthy\",\"Potato___Late_blight\",\"Raspberry___healthy\",\"Soybean___healthy\",\"Squash___Powdery_mildew\",\"Strawberry___healthy\",\"Strawberry___Leaf_scorch\",\"Tomato___Bacterial_spot\",\"Tomato___Early_blight\",\"Tomato___healthy\",\"Tomato___Late_blight\",\"Tomato___Leaf_Mold\",\"Tomato___Septoria_leaf_spot\",\"Tomato___Spider_mites Two-spotted_spider_mite\",\"Tomato___Target_Spot\",\"Tomato___Tomato_mosaic_virus\",\"Tomato___Tomato_Yellow_Leaf_Curl_Virus\"]\n",
    "for i in range(classes):\n",
    "    path=os.path.join(datadir,categories[i-1])\n",
    "    for a in os.listdir(path):\n",
    "        image=Image.open(path+'\\\\'+a)\n",
    "        image=image.resize((30,30))\n",
    "        image=np.array(image)\n",
    "        data.append(image)\n",
    "        #print(len(data))\n",
    "        #print(data)\n",
    "        labels.append(i)\n",
    "        #plt.imshow(image)\n",
    "        #plt.show()\n",
    "data=np.array(data)\n",
    "labels=np.array(labels)\n",
    "#print(\"hebdhew\")\n",
    "print(data.shape,labels.shape)\n",
    "      \n",
    "        \n",
    "X_train,X_test,y_train,y_test=train_test_split(data,labels,test_size=0.2,random_state=42)\n",
    "print(X_train.shape,X_test.shape,y_train.shape,y_test.shape)\n",
    "y_train=to_categorical(y_train,38)\n",
    "y_test=to_categorical(y_test,38)\n",
    "\n",
    "model=Sequential()\n",
    "\n",
    "model.add(Conv2D(filters=16,kernel_size=(3,3),activation='relu',input_shape=(30,30,3)))\n",
    "model.add(MaxPool2D(pool_size=(2,2)))\n",
    "\n",
    "model.add(Conv2D(filters=32,kernel_size=(3,3),activation='relu'))\n",
    "model.add(MaxPool2D(pool_size=(2,2)))\n",
    "model.add(Dropout(rate=0.2))\n",
    "\n",
    "model.add(Conv2D(filters=64,kernel_size=(3,3),activation='relu'))\n",
    "model.add(MaxPool2D(pool_size=(2,2)))\n",
    "model.add(Dropout(rate=0.2))\n",
    "\n",
    "\n",
    "model.add(Flatten())\n",
    "\n",
    "model.add(Dense(256,activation='relu'))\n",
    "model.add(GaussianNoise(0.1))\n",
    "model.add(Dropout(rate=0.25))\n",
    "model.add(Dense(38,activation='softmax'))\n",
    "\n",
    "model.compile(loss='categorical_crossentropy',optimizer='adam',metrics=['accuracy'])\n",
    "epochs=25\n",
    "history=model.fit(X_train,y_train,batch_size=64,epochs=epochs,validation_data=(X_test,y_test))\n",
    "model.save(\"my_model1.h5\")"
   ]
  },
  {
   "cell_type": "code",
   "execution_count": 3,
   "id": "db954e24",
   "metadata": {},
   "outputs": [
    {
     "name": "stdout",
     "output_type": "stream",
     "text": [
      "550/550 [==============================] - 1s 2ms/step - loss: 0.3572 - accuracy: 0.8830\n",
      "Test loss: 0.35720711946487427 / Test accuracy: 0.8830090165138245\n"
     ]
    }
   ],
   "source": [
    "#evaluating model\n",
    "score = model.evaluate(X_test, y_test, verbose=1)\n",
    "print(f'Test loss: {score[0]} / Test accuracy: {score[1]}')"
   ]
  },
  {
   "cell_type": "code",
   "execution_count": 4,
   "id": "77bfb96f",
   "metadata": {},
   "outputs": [
    {
     "ename": "NameError",
     "evalue": "name 'keras' is not defined",
     "output_type": "error",
     "traceback": [
      "\u001b[1;31m---------------------------------------------------------------------------\u001b[0m",
      "\u001b[1;31mNameError\u001b[0m                                 Traceback (most recent call last)",
      "\u001b[1;32m~\\AppData\\Local\\Temp/ipykernel_2476/1523879098.py\u001b[0m in \u001b[0;36m<module>\u001b[1;34m\u001b[0m\n\u001b[0;32m      1\u001b[0m \u001b[1;31m#loading the model\u001b[0m\u001b[1;33m\u001b[0m\u001b[1;33m\u001b[0m\u001b[1;33m\u001b[0m\u001b[0m\n\u001b[1;32m----> 2\u001b[1;33m \u001b[0mmodel1\u001b[0m \u001b[1;33m=\u001b[0m \u001b[0mkeras\u001b[0m\u001b[1;33m.\u001b[0m\u001b[0mmodels\u001b[0m\u001b[1;33m.\u001b[0m\u001b[0mload_model\u001b[0m\u001b[1;33m(\u001b[0m\u001b[1;34m\"my_model1.h5\"\u001b[0m\u001b[1;33m)\u001b[0m\u001b[1;33m\u001b[0m\u001b[1;33m\u001b[0m\u001b[0m\n\u001b[0m\u001b[0;32m      3\u001b[0m \u001b[1;31m#evaluating model\u001b[0m\u001b[1;33m\u001b[0m\u001b[1;33m\u001b[0m\u001b[1;33m\u001b[0m\u001b[0m\n\u001b[0;32m      4\u001b[0m \u001b[0mscore\u001b[0m \u001b[1;33m=\u001b[0m \u001b[0mmodel1\u001b[0m\u001b[1;33m.\u001b[0m\u001b[0mevaluate\u001b[0m\u001b[1;33m(\u001b[0m\u001b[0mX_test\u001b[0m\u001b[1;33m,\u001b[0m \u001b[0my_test\u001b[0m\u001b[1;33m,\u001b[0m \u001b[0mverbose\u001b[0m\u001b[1;33m=\u001b[0m\u001b[1;36m1\u001b[0m\u001b[1;33m)\u001b[0m\u001b[1;33m\u001b[0m\u001b[1;33m\u001b[0m\u001b[0m\n\u001b[0;32m      5\u001b[0m \u001b[0mprint\u001b[0m\u001b[1;33m(\u001b[0m\u001b[1;34mf'Test loss: {score[0]} / Test accuracy: {score[1]}'\u001b[0m\u001b[1;33m)\u001b[0m\u001b[1;33m\u001b[0m\u001b[1;33m\u001b[0m\u001b[0m\n",
      "\u001b[1;31mNameError\u001b[0m: name 'keras' is not defined"
     ]
    }
   ],
   "source": [
    "#loading the model\n",
    "model1 = keras.models.load_model(\"my_model1.h5\")\n",
    "#evaluating model\n",
    "score = model1.evaluate(X_test, y_test, verbose=1)\n",
    "print(f'Test loss: {score[0]} / Test accuracy: {score[1]}')"
   ]
  },
  {
   "cell_type": "code",
   "execution_count": 5,
   "id": "6d598085",
   "metadata": {},
   "outputs": [
    {
     "name": "stdout",
     "output_type": "stream",
     "text": [
      "550/550 [==============================] - 1s 2ms/step - loss: 0.3572 - accuracy: 0.8830\n",
      "Test loss: 0.35720711946487427 / Test accuracy: 0.8830090165138245\n"
     ]
    }
   ],
   "source": [
    "from tensorflow import keras\n",
    "#loading the model\n",
    "model1 = keras.models.load_model(\"my_model1.h5\")\n",
    "#evaluating model\n",
    "score = model1.evaluate(X_test, y_test, verbose=1)\n",
    "print(f'Test loss: {score[0]} / Test accuracy: {score[1]}')"
   ]
  },
  {
   "cell_type": "code",
   "execution_count": 6,
   "id": "9631ff69",
   "metadata": {},
   "outputs": [
    {
     "data": {
      "image/png": "[encoded data removed]",
      "text/plain": [
       "<Figure size 432x288 with 1 Axes>"
      ]
     },
     "metadata": {
      "needs_background": "light"
     },
     "output_type": "display_data"
    },
    {
     "data": {
      "image/png": "[encoded data removed]",
      "text/plain": [
       "<Figure size 432x288 with 1 Axes>"
      ]
     },
     "metadata": {
      "needs_background": "light"
     },
     "output_type": "display_data"
    },
    {
     "data": {
      "image/png": "[encoded data removed]",
      "text/plain": [
       "<Figure size 432x288 with 1 Axes>"
      ]
     },
     "metadata": {
      "needs_background": "light"
     },
     "output_type": "display_data"
    },
    {
     "data": {
      "image/png": "[encoded data removed]",
      "text/plain": [
       "<Figure size 432x288 with 1 Axes>"
      ]
     },
     "metadata": {
      "needs_background": "light"
     },
     "output_type": "display_data"
    },
    {
     "data": {
      "image/png": "[encoded data removed]",
      "text/plain": [
       "<Figure size 432x288 with 1 Axes>"
      ]
     },
     "metadata": {
      "needs_background": "light"
     },
     "output_type": "display_data"
    }
   ],
   "source": [
    "use_samples = [5, 38, 3939,8786,1000] # samples\n",
    "samples_to_predict = []\n",
    "# Generate plots for samples\n",
    "for sample in use_samples:\n",
    "  # Generate a plot\n",
    "  reshaped_image = X_test[sample]\n",
    "  plt.imshow(reshaped_image)\n",
    "  plt.show()\n",
    "  samples_to_predict.append(X_test[sample])"
   ]
  },
  {
   "cell_type": "code",
   "execution_count": 7,
   "id": "48a4ae3c",
   "metadata": {},
   "outputs": [
    {
     "name": "stdout",
     "output_type": "stream",
     "text": [
      "(5, 30, 30, 3)\n",
      "[[4.82625684e-18 7.61537254e-01 7.40141782e-04 3.15460547e-08\n",
      "  6.09611068e-03 2.31198072e-01 3.71989977e-15 1.17890702e-08\n",
      "  4.69966466e-09 8.54188595e-12 4.61020848e-12 2.65591465e-10\n",
      "  9.11909548e-10 1.85054879e-13 1.19784811e-13 3.48116274e-16\n",
      "  1.05151710e-09 1.16322335e-05 9.12102769e-06 2.27943829e-07\n",
      "  1.61372371e-09 7.27611791e-07 1.05332177e-07 1.10742512e-07\n",
      "  7.95057770e-12 1.18216395e-10 1.96130365e-08 3.48859670e-04\n",
      "  3.58577923e-09 1.14868891e-15 1.36812996e-08 1.99167807e-05\n",
      "  1.95959107e-08 6.80582048e-07 2.02956721e-06 5.78480631e-11\n",
      "  3.50269511e-05 3.79056253e-08]\n",
      " [1.87096094e-09 6.64690597e-05 3.07727666e-09 6.91416346e-08\n",
      "  1.69332903e-08 8.97247503e-08 2.56607599e-16 4.30961794e-11\n",
      "  6.26544576e-08 5.14742091e-15 6.51082336e-15 2.55395309e-04\n",
      "  3.48845119e-11 1.15890997e-14 1.22761554e-15 1.66569791e-14\n",
      "  1.23723354e-09 7.24227812e-06 5.38426205e-12 9.90814328e-08\n",
      "  2.06572259e-12 2.26879600e-08 9.40419143e-14 8.58504450e-08\n",
      "  3.07485293e-13 1.25324902e-12 2.36533722e-07 2.71027679e-11\n",
      "  2.92227851e-05 2.22519816e-06 9.19847116e-06 3.81702421e-06\n",
      "  9.95253801e-01 4.13599948e-04 3.95476678e-03 1.24218798e-06\n",
      "  3.50811362e-08 2.32952038e-06]\n",
      " [4.41492432e-18 4.61128554e-22 2.08411797e-26 1.46564694e-15\n",
      "  1.68023490e-26 1.06199873e-16 4.38830765e-27 1.05372695e-22\n",
      "  5.27261533e-11 9.99999285e-01 8.16439347e-11 2.33719726e-15\n",
      "  1.02861212e-27 1.73864707e-23 1.02071988e-28 1.79061076e-23\n",
      "  1.92177821e-15 7.54407692e-15 1.89079382e-22 3.18440823e-24\n",
      "  1.94951806e-16 3.03009996e-16 2.29874707e-19 9.86892144e-21\n",
      "  1.87073815e-25 6.38686142e-31 2.02251966e-13 5.01177166e-29\n",
      "  2.76298028e-17 6.33484963e-20 2.12316114e-15 2.00044083e-20\n",
      "  6.66414394e-07 2.05414049e-26 3.66065211e-22 2.07954859e-29\n",
      "  1.84378976e-23 1.70777585e-26]\n",
      " [1.42014267e-08 2.20118253e-03 9.90688086e-01 2.17885959e-10\n",
      "  4.06194995e-05 1.53513349e-04 8.62934946e-10 1.79449255e-08\n",
      "  1.02933620e-10 2.75704589e-12 1.30724962e-11 8.60254229e-11\n",
      "  4.77440949e-08 1.62957547e-11 3.14613615e-08 1.22002823e-14\n",
      "  1.98206092e-08 4.67558595e-04 1.15730800e-05 1.05174957e-04\n",
      "  1.04698247e-05 1.72215409e-10 1.01396290e-04 4.24110003e-05\n",
      "  2.35543496e-08 4.09374798e-06 1.50574414e-10 1.97414829e-05\n",
      "  5.53503798e-10 2.83488674e-07 4.00585937e-04 6.76097400e-08\n",
      "  7.87408823e-08 6.37624211e-08 2.21381590e-04 3.63889512e-06\n",
      "  5.03121270e-03 4.96631546e-04]\n",
      " [2.34478712e-12 1.72448583e-11 1.01994357e-09 6.16428783e-11\n",
      "  2.73275394e-14 5.14750604e-16 3.48398654e-16 1.85583182e-15\n",
      "  9.73296732e-09 4.26457236e-14 4.11988421e-17 3.46219511e-11\n",
      "  2.58907769e-02 9.74108577e-01 3.45197070e-13 1.23750596e-07\n",
      "  8.79292197e-16 4.25761162e-12 1.50034033e-12 3.21036367e-07\n",
      "  6.07601873e-14 2.86335110e-13 4.36283648e-12 6.54806070e-11\n",
      "  9.30845693e-16 5.50405980e-18 1.06636230e-13 1.81976646e-19\n",
      "  2.51209915e-08 4.65401606e-11 4.10470236e-08 1.32243773e-16\n",
      "  6.29499581e-08 2.11070900e-11 3.29055783e-10 1.90584146e-11\n",
      "  8.99271074e-11 1.05102461e-12]]\n",
      "[ 1 32  9  2 13]\n",
      "Apple___Apple_scab ,Tomato___Late_blight ,Corn_(maize)___Common_rust_ ,Grape___Esca_(Black_Measles)\n"
     ]
    }
   ],
   "source": [
    "#converting to numpy array\n",
    "samples_to_predict = np.array(samples_to_predict)\n",
    "print(samples_to_predict.shape)\n",
    "\n",
    "#prediction\n",
    "predictions = model.predict(samples_to_predict)\n",
    "print(predictions)\n",
    "\n",
    "#printing class\n",
    "classes = np.argmax(predictions, axis = 1)\n",
    "print(classes)\n",
    "\n",
    "print(categories[classes[0]-1]+\" \"+\",\"+categories[classes[1]-1]+\" \"+\",\"+categories[classes[2]-1]+\" \"+\",\"+categories[classes[4]-1])"
   ]
  },
  {
   "cell_type": "code",
   "execution_count": 8,
   "id": "66b714ef",
   "metadata": {},
   "outputs": [
    {
     "ename": "FileNotFoundError",
     "evalue": "[Errno 2] No such file or directory: 'D:\\\\test\\\\AppleCedarRust2.jpg'",
     "output_type": "error",
     "traceback": [
      "\u001b[1;31m---------------------------------------------------------------------------\u001b[0m",
      "\u001b[1;31mFileNotFoundError\u001b[0m                         Traceback (most recent call last)",
      "\u001b[1;32m~\\AppData\\Local\\Temp/ipykernel_2476/3340079788.py\u001b[0m in \u001b[0;36m<module>\u001b[1;34m\u001b[0m\n\u001b[0;32m      4\u001b[0m \u001b[1;33m\u001b[0m\u001b[0m\n\u001b[0;32m      5\u001b[0m \u001b[1;31m#loading image\u001b[0m\u001b[1;33m\u001b[0m\u001b[1;33m\u001b[0m\u001b[1;33m\u001b[0m\u001b[0m\n\u001b[1;32m----> 6\u001b[1;33m \u001b[0mij\u001b[0m\u001b[1;33m=\u001b[0m\u001b[0mImage\u001b[0m\u001b[1;33m.\u001b[0m\u001b[0mopen\u001b[0m\u001b[1;33m(\u001b[0m\u001b[1;34mr\"D:\\test\\AppleCedarRust2.jpg\"\u001b[0m\u001b[1;33m,\u001b[0m\u001b[1;34m\"r\"\u001b[0m\u001b[1;33m)\u001b[0m\u001b[1;33m\u001b[0m\u001b[1;33m\u001b[0m\u001b[0m\n\u001b[0m\u001b[0;32m      7\u001b[0m \u001b[0mij\u001b[0m\u001b[1;33m=\u001b[0m\u001b[0mij\u001b[0m\u001b[1;33m.\u001b[0m\u001b[0mresize\u001b[0m\u001b[1;33m(\u001b[0m\u001b[1;33m(\u001b[0m\u001b[1;36m30\u001b[0m\u001b[1;33m,\u001b[0m\u001b[1;36m30\u001b[0m\u001b[1;33m)\u001b[0m\u001b[1;33m)\u001b[0m\u001b[1;33m\u001b[0m\u001b[1;33m\u001b[0m\u001b[0m\n\u001b[0;32m      8\u001b[0m \u001b[1;33m\u001b[0m\u001b[0m\n",
      "\u001b[1;32mc:\\users\\91930\\appdata\\local\\programs\\python\\python39\\lib\\site-packages\\PIL\\Image.py\u001b[0m in \u001b[0;36mopen\u001b[1;34m(fp, mode, formats)\u001b[0m\n\u001b[0;32m   2966\u001b[0m \u001b[1;33m\u001b[0m\u001b[0m\n\u001b[0;32m   2967\u001b[0m     \u001b[1;32mif\u001b[0m \u001b[0mfilename\u001b[0m\u001b[1;33m:\u001b[0m\u001b[1;33m\u001b[0m\u001b[1;33m\u001b[0m\u001b[0m\n\u001b[1;32m-> 2968\u001b[1;33m         \u001b[0mfp\u001b[0m \u001b[1;33m=\u001b[0m \u001b[0mbuiltins\u001b[0m\u001b[1;33m.\u001b[0m\u001b[0mopen\u001b[0m\u001b[1;33m(\u001b[0m\u001b[0mfilename\u001b[0m\u001b[1;33m,\u001b[0m \u001b[1;34m\"rb\"\u001b[0m\u001b[1;33m)\u001b[0m\u001b[1;33m\u001b[0m\u001b[1;33m\u001b[0m\u001b[0m\n\u001b[0m\u001b[0;32m   2969\u001b[0m         \u001b[0mexclusive_fp\u001b[0m \u001b[1;33m=\u001b[0m \u001b[1;32mTrue\u001b[0m\u001b[1;33m\u001b[0m\u001b[1;33m\u001b[0m\u001b[0m\n\u001b[0;32m   2970\u001b[0m \u001b[1;33m\u001b[0m\u001b[0m\n",
      "\u001b[1;31mFileNotFoundError\u001b[0m: [Errno 2] No such file or directory: 'D:\\\\test\\\\AppleCedarRust2.jpg'"
     ]
    }
   ],
   "source": [
    "#testing or prediction leaf diseases\n",
    "#ij=Image.open(r\"C:\\Users\\DELL\\Desktop\\test\\earlypotato.png\",\"r\")\n",
    "ima=[]\n",
    "\n",
    "#loading image\n",
    "ij=Image.open(r\"D:\\test\\AppleCedarRust2.jpg\",\"r\")\n",
    "ij=ij.resize((30,30))\n",
    "\n",
    "ij=np.array(ij)\n",
    "\n",
    "#leaf image\n",
    "plt.imshow(ij)\n",
    "plt.show()\n",
    "\n",
    "#appending image\n",
    "ima.append(ij);\n",
    "ima=np.array(ima)\n",
    "\n",
    "#shape of image\n",
    "print(ima.shape)"
   ]
  },
  {
   "cell_type": "code",
   "execution_count": 9,
   "id": "bee2be33",
   "metadata": {
    "scrolled": true
   },
   "outputs": [
    {
     "data": {
      "image/png": "[encoded data removed]",
      "text/plain": [
       "<Figure size 432x288 with 1 Axes>"
      ]
     },
     "metadata": {
      "needs_background": "light"
     },
     "output_type": "display_data"
    },
    {
     "name": "stdout",
     "output_type": "stream",
     "text": [
      "(1, 30, 30, 3)\n"
     ]
    }
   ],
   "source": [
    "#testing or prediction leaf diseases\n",
    "#ij=Image.open(r\"C:\\Users\\DELL\\Desktop\\test\\earlypotato.png\",\"r\")\n",
    "ima=[]\n",
    "\n",
    "#loading image\n",
    "ij=Image.open(r\"D:\\test\\AppleCedarRust2.jpg\",\"r\")\n",
    "ij=ij.resize((30,30))\n",
    "\n",
    "ij=np.array(ij)\n",
    "\n",
    "#leaf image\n",
    "plt.imshow(ij)\n",
    "plt.show()\n",
    "\n",
    "#appending image\n",
    "ima.append(ij);\n",
    "ima=np.array(ima)\n",
    "\n",
    "#shape of image\n",
    "print(ima.shape)"
   ]
  },
  {
   "cell_type": "code",
   "execution_count": 10,
   "id": "d7beba07",
   "metadata": {},
   "outputs": [
    {
     "name": "stdout",
     "output_type": "stream",
     "text": [
      "[[1.7995379e-05 5.3647531e-05 3.4620155e-06 9.6327889e-01 4.3129701e-05\n",
      "  1.0456526e-09 4.5846522e-09 8.8598707e-04 1.9803423e-02 5.2772220e-06\n",
      "  8.2655509e-09 2.9236164e-05 1.9677393e-03 1.1459397e-04 7.1775725e-07\n",
      "  2.1796266e-05 3.9303046e-05 2.8073624e-05 8.8688256e-07 2.2127348e-05\n",
      "  7.6171756e-07 2.3800771e-05 7.8550183e-06 2.9496322e-04 2.4299272e-08\n",
      "  6.4159906e-08 8.3206214e-05 1.2113076e-11 2.5921823e-05 8.1709735e-03\n",
      "  2.5350002e-03 2.6838358e-09 2.5235233e-03 1.7556961e-06 1.0415760e-05\n",
      "  8.0528480e-07 4.5045413e-06 1.0010941e-07]]\n",
      "[3]\n",
      "Apple___Cedar_apple_rust\n"
     ]
    }
   ],
   "source": [
    "pre = model.predict(ima)\n",
    "print(pre)\n",
    "\n",
    "#printing class\n",
    "clas = np.argmax(pre, axis = 1)\n",
    "print(clas)\n",
    "print(categories[clas[0]-1])"
   ]
  },
  {
   "cell_type": "code",
   "execution_count": 11,
   "id": "8bc82c5f",
   "metadata": {},
   "outputs": [
    {
     "data": {
      "image/png": "[encoded data removed]",
      "text/plain": [
       "<Figure size 432x288 with 1 Axes>"
      ]
     },
     "metadata": {
      "needs_background": "light"
     },
     "output_type": "display_data"
    },
    {
     "data": {
      "image/png": "[encoded data removed]",
      "text/plain": [
       "<Figure size 432x288 with 1 Axes>"
      ]
     },
     "metadata": {
      "needs_background": "light"
     },
     "output_type": "display_data"
    }
   ],
   "source": [
    "#plotting graphs for accuracy \n",
    "plt.figure(0)\n",
    "plt.plot(history.history['accuracy'], label='training accuracy')\n",
    "plt.plot(history.history['val_accuracy'], label='val accuracy')\n",
    "plt.title('Accuracy')\n",
    "plt.xlabel('epochs')\n",
    "plt.ylabel('accuracy')\n",
    "plt.legend()\n",
    "plt.show()\n",
    "\n",
    "plt.figure(1)\n",
    "plt.plot(history.history['loss'], label='training loss')\n",
    "plt.plot(history.history['val_loss'], label='val loss')\n",
    "plt.title('Loss')\n",
    "plt.xlabel('epochs')\n",
    "plt.ylabel('loss')\n",
    "plt.legend()\n",
    "plt.show()"
   ]
  },
  {
   "cell_type": "code",
   "execution_count": 12,
   "id": "264b82c1",
   "metadata": {},
   "outputs": [
    {
     "name": "stdout",
     "output_type": "stream",
     "text": [
      "Model: \"sequential_1\"\n",
      "_________________________________________________________________\n",
      "Layer (type)                 Output Shape              Param #   \n",
      "=================================================================\n",
      "conv2d_3 (Conv2D)            (None, 28, 28, 16)        448       \n",
      "_________________________________________________________________\n",
      "max_pooling2d_3 (MaxPooling2 (None, 14, 14, 16)        0         \n",
      "_________________________________________________________________\n",
      "conv2d_4 (Conv2D)            (None, 12, 12, 32)        4640      \n",
      "_________________________________________________________________\n",
      "max_pooling2d_4 (MaxPooling2 (None, 6, 6, 32)          0         \n",
      "_________________________________________________________________\n",
      "dropout_3 (Dropout)          (None, 6, 6, 32)          0         \n",
      "_________________________________________________________________\n",
      "conv2d_5 (Conv2D)            (None, 4, 4, 64)          18496     \n",
      "_________________________________________________________________\n",
      "max_pooling2d_5 (MaxPooling2 (None, 2, 2, 64)          0         \n",
      "_________________________________________________________________\n",
      "dropout_4 (Dropout)          (None, 2, 2, 64)          0         \n",
      "_________________________________________________________________\n",
      "flatten_1 (Flatten)          (None, 256)               0         \n",
      "_________________________________________________________________\n",
      "dense_2 (Dense)              (None, 256)               65792     \n",
      "_________________________________________________________________\n",
      "gaussian_noise_1 (GaussianNo (None, 256)               0         \n",
      "_________________________________________________________________\n",
      "dropout_5 (Dropout)          (None, 256)               0         \n",
      "_________________________________________________________________\n",
      "dense_3 (Dense)              (None, 38)                9766      \n",
      "=================================================================\n",
      "Total params: 99,142\n",
      "Trainable params: 99,142\n",
      "Non-trainable params: 0\n",
      "_________________________________________________________________\n"
     ]
    }
   ],
   "source": [
    "model.summary()"
   ]
  },
  {
   "cell_type": "code",
   "execution_count": 2,
   "id": "973882f3",
   "metadata": {},
   "outputs": [
    {
     "name": "stdout",
     "output_type": "stream",
     "text": [
      "(87867, 30, 30, 3) (87867,)\n",
      "(70293, 30, 30, 3) (17574, 30, 30, 3) (70293,) (17574,)\n",
      "Epoch 1/25\n",
      "1099/1099 [==============================] - 22s 19ms/step - loss: 3.3494 - accuracy: 0.1400 - val_loss: 2.3426 - val_accuracy: 0.3410\n",
      "Epoch 2/25\n",
      "1099/1099 [==============================] - 21s 19ms/step - loss: 2.0271 - accuracy: 0.4035 - val_loss: 1.4053 - val_accuracy: 0.5932\n",
      "Epoch 3/25\n",
      "1099/1099 [==============================] - 21s 19ms/step - loss: 1.4895 - accuracy: 0.5478 - val_loss: 1.0828 - val_accuracy: 0.6719\n",
      "Epoch 4/25\n",
      "1099/1099 [==============================] - 22s 20ms/step - loss: 1.2336 - accuracy: 0.6198 - val_loss: 0.8986 - val_accuracy: 0.7241\n",
      "Epoch 5/25\n",
      "1099/1099 [==============================] - 21s 19ms/step - loss: 1.0539 - accuracy: 0.6736 - val_loss: 0.7313 - val_accuracy: 0.7720\n",
      "Epoch 6/25\n",
      "1099/1099 [==============================] - 21s 19ms/step - loss: 0.9469 - accuracy: 0.7063 - val_loss: 0.6111 - val_accuracy: 0.8109\n",
      "Epoch 7/25\n",
      "1099/1099 [==============================] - 21s 20ms/step - loss: 0.8571 - accuracy: 0.7308 - val_loss: 0.5958 - val_accuracy: 0.8094\n",
      "Epoch 8/25\n",
      "1099/1099 [==============================] - 21s 19ms/step - loss: 0.8131 - accuracy: 0.7430 - val_loss: 0.5326 - val_accuracy: 0.8344\n",
      "Epoch 9/25\n",
      "1099/1099 [==============================] - 21s 19ms/step - loss: 0.7674 - accuracy: 0.7592 - val_loss: 0.5081 - val_accuracy: 0.8381\n",
      "Epoch 10/25\n",
      "1099/1099 [==============================] - 22s 20ms/step - loss: 0.7330 - accuracy: 0.7687 - val_loss: 0.5245 - val_accuracy: 0.8361\n",
      "Epoch 11/25\n",
      "1099/1099 [==============================] - 22s 20ms/step - loss: 0.7118 - accuracy: 0.7741 - val_loss: 0.4174 - val_accuracy: 0.8686\n",
      "Epoch 12/25\n",
      "1099/1099 [==============================] - 22s 20ms/step - loss: 0.6810 - accuracy: 0.7858 - val_loss: 0.4571 - val_accuracy: 0.8507\n",
      "Epoch 13/25\n",
      "1099/1099 [==============================] - 22s 20ms/step - loss: 0.6615 - accuracy: 0.7917 - val_loss: 0.4274 - val_accuracy: 0.8615\n",
      "Epoch 14/25\n",
      "1099/1099 [==============================] - 22s 20ms/step - loss: 0.6462 - accuracy: 0.7950 - val_loss: 0.4326 - val_accuracy: 0.8585\n",
      "Epoch 15/25\n",
      "1099/1099 [==============================] - 22s 20ms/step - loss: 0.6400 - accuracy: 0.7975 - val_loss: 0.4247 - val_accuracy: 0.8602\n",
      "Epoch 16/25\n",
      "1099/1099 [==============================] - 21s 20ms/step - loss: 0.6243 - accuracy: 0.8035 - val_loss: 0.4056 - val_accuracy: 0.8717\n",
      "Epoch 17/25\n",
      "1099/1099 [==============================] - 21s 19ms/step - loss: 0.6108 - accuracy: 0.8082 - val_loss: 0.4143 - val_accuracy: 0.8666\n",
      "Epoch 18/25\n",
      "1099/1099 [==============================] - 24s 21ms/step - loss: 0.6034 - accuracy: 0.8084 - val_loss: 0.3783 - val_accuracy: 0.8773\n",
      "Epoch 19/25\n",
      "1099/1099 [==============================] - 21s 19ms/step - loss: 0.6108 - accuracy: 0.8081 - val_loss: 0.4095 - val_accuracy: 0.8676\n",
      "Epoch 20/25\n",
      "1099/1099 [==============================] - 20s 18ms/step - loss: 0.5935 - accuracy: 0.8137 - val_loss: 0.4228 - val_accuracy: 0.8632\n",
      "Epoch 21/25\n",
      "1099/1099 [==============================] - 21s 20ms/step - loss: 0.5816 - accuracy: 0.8157 - val_loss: 0.3914 - val_accuracy: 0.8703\n",
      "Epoch 22/25\n",
      "1099/1099 [==============================] - 23s 21ms/step - loss: 0.5750 - accuracy: 0.8178 - val_loss: 0.3482 - val_accuracy: 0.8864\n",
      "Epoch 23/25\n",
      "1099/1099 [==============================] - 22s 20ms/step - loss: 0.5659 - accuracy: 0.8215 - val_loss: 0.3542 - val_accuracy: 0.8832\n",
      "Epoch 24/25\n",
      "1099/1099 [==============================] - 22s 20ms/step - loss: 0.5693 - accuracy: 0.8205 - val_loss: 0.3469 - val_accuracy: 0.8899\n",
      "Epoch 25/25\n",
      "1099/1099 [==============================] - 22s 20ms/step - loss: 0.5644 - accuracy: 0.8233 - val_loss: 0.4024 - val_accuracy: 0.8682\n"
     ]
    }
   ],
   "source": [
    "import tensorflow as tf\n",
    "import numpy as np\n",
    "import matplotlib.pyplot as plt\n",
    "import tensorflow as tf\n",
    "import os\n",
    "from PIL import Image\n",
    "\n",
    "from tensorflow.keras.utils import to_categorical\n",
    "from sklearn.model_selection import train_test_split\n",
    "from keras.models import Sequential\n",
    "from keras.layers import Conv2D,MaxPool2D,Dense,Flatten,Dropout,GaussianNoise\n",
    "from tensorflow.keras.models import Sequential, save_model, load_model\n",
    "data=[]\n",
    "labels=[]\n",
    "classes=38\n",
    "datadir=\"D:/train\"\n",
    "categories=[\"Apple___Apple_scab\",\"Apple___Black_rot\",\"Apple___Cedar_apple_rust\",\"Apple___healthy\",\"Blueberry___healthy\",\"Cherry_(including_sour)___healthy\",\"Cherry_(including_sour)___Powdery_mildew\",\"Corn_(maize)___Cercospora_leaf_spot Gray_leaf_spot\",\"Corn_(maize)___Common_rust_\",\"Corn_(maize)___healthy\",\"Corn_(maize)___Northern_Leaf_Blight\",\"Grape___Black_rot\",\"Grape___Esca_(Black_Measles)\",\"Grape___healthy\",\"Grape___Leaf_blight_(Isariopsis_Leaf_Spot)\",\"Orange___Haunglongbing_(Citrus_greening)\",\"Peach___Bacterial_spot\",\"Peach___healthy\",\"Pepper,_bell___Bacterial_spot\",\"Pepper,_bell___healthy\",\"Potato___Early_blight\",\"Potato___healthy\",\"Potato___Late_blight\",\"Raspberry___healthy\",\"Soybean___healthy\",\"Squash___Powdery_mildew\",\"Strawberry___healthy\",\"Strawberry___Leaf_scorch\",\"Tomato___Bacterial_spot\",\"Tomato___Early_blight\",\"Tomato___healthy\",\"Tomato___Late_blight\",\"Tomato___Leaf_Mold\",\"Tomato___Septoria_leaf_spot\",\"Tomato___Spider_mites Two-spotted_spider_mite\",\"Tomato___Target_Spot\",\"Tomato___Tomato_mosaic_virus\",\"Tomato___Tomato_Yellow_Leaf_Curl_Virus\"]\n",
    "for i in range(classes):\n",
    "    path=os.path.join(datadir,categories[i-1])\n",
    "    for a in os.listdir(path):\n",
    "        image=Image.open(path+'\\\\'+a)\n",
    "        image=image.resize((30,30))\n",
    "        image=np.array(image)\n",
    "        data.append(image)\n",
    "        #print(len(data))\n",
    "        #print(data)\n",
    "        labels.append(i)\n",
    "        #plt.imshow(image)\n",
    "        #plt.show()\n",
    "data=np.array(data)\n",
    "labels=np.array(labels)\n",
    "print(data.shape,labels.shape)\n",
    "      \n",
    "        \n",
    "X_train,X_test,y_train,y_test=train_test_split(data,labels,test_size=0.2,random_state=42)\n",
    "print(X_train.shape,X_test.shape,y_train.shape,y_test.shape)\n",
    "y_train=to_categorical(y_train,38)\n",
    "y_test=to_categorical(y_test,38)\n",
    "\n",
    "model=Sequential()\n",
    "\n",
    "model.add(Conv2D(filters=16,kernel_size=(3,3),activation='relu',input_shape=(30,30,3)))\n",
    "model.add(MaxPool2D(pool_size=(2,2)))\n",
    "\n",
    "model.add(Conv2D(filters=32,kernel_size=(3,3),activation='relu'))\n",
    "model.add(MaxPool2D(pool_size=(2,2)))\n",
    "model.add(Dropout(rate=0.2))\n",
    "\n",
    "model.add(Conv2D(filters=64,kernel_size=(3,3),activation='relu'))\n",
    "model.add(MaxPool2D(pool_size=(2,2)))\n",
    "model.add(Dropout(rate=0.2))\n",
    "\n",
    "\n",
    "model.add(Flatten())\n",
    "\n",
    "model.add(Dense(256,activation='relu'))\n",
    "model.add(GaussianNoise(0.1))\n",
    "model.add(Dropout(rate=0.25))\n",
    "model.add(Dense(38,activation='softmax'))\n",
    "\n",
    "model.compile(loss='categorical_crossentropy',optimizer='adam',metrics=['accuracy'])\n",
    "epochs=25\n",
    "history=model.fit(X_train,y_train,batch_size=64,epochs=epochs,validation_data=(X_test,y_test))\n",
    "model.save(\"my_model1.h5\")"
   ]
  },
  {
   "cell_type": "code",
   "execution_count": 3,
   "id": "55e66568",
   "metadata": {},
   "outputs": [
    {
     "data": {
      "image/png": "[encoded data removed]",
      "text/plain": [
       "<Figure size 432x288 with 1 Axes>"
      ]
     },
     "metadata": {
      "needs_background": "light"
     },
     "output_type": "display_data"
    },
    {
     "data": {
      "image/png": "[encoded data removed]",
      "text/plain": [
       "<Figure size 432x288 with 1 Axes>"
      ]
     },
     "metadata": {
      "needs_background": "light"
     },
     "output_type": "display_data"
    },
    {
     "data": {
      "image/png": "[encoded data removed]",
      "text/plain": [
       "<Figure size 432x288 with 1 Axes>"
      ]
     },
     "metadata": {
      "needs_background": "light"
     },
     "output_type": "display_data"
    },
    {
     "data": {
      "image/png": "[encoded data removed]",
      "text/plain": [
       "<Figure size 432x288 with 1 Axes>"
      ]
     },
     "metadata": {
      "needs_background": "light"
     },
     "output_type": "display_data"
    },
    {
     "data": {
      "image/png": "[encoded data removed]",
      "text/plain": [
       "<Figure size 432x288 with 1 Axes>"
      ]
     },
     "metadata": {
      "needs_background": "light"
     },
     "output_type": "display_data"
    }
   ],
   "source": [
    "use_samples = [5, 38, 3939,8786,1000] # samples\n",
    "samples_to_predict = []\n",
    "# Generate plots for samples\n",
    "for sample in use_samples:\n",
    "  # Generate a plot\n",
    "  reshaped_image = X_test[sample]\n",
    "  plt.imshow(reshaped_image)\n",
    "  plt.show()\n",
    "  samples_to_predict.append(X_test[sample])"
   ]
  },
  {
   "cell_type": "code",
   "execution_count": 1,
   "id": "9a93d975",
   "metadata": {},
   "outputs": [
    {
     "ename": "NameError",
     "evalue": "name 'X_test' is not defined",
     "output_type": "error",
     "traceback": [
      "\u001b[1;31m---------------------------------------------------------------------------\u001b[0m",
      "\u001b[1;31mNameError\u001b[0m                                 Traceback (most recent call last)",
      "\u001b[1;32m~\\AppData\\Local\\Temp/ipykernel_17132/2158782725.py\u001b[0m in \u001b[0;36m<module>\u001b[1;34m\u001b[0m\n\u001b[0;32m      4\u001b[0m \u001b[1;32mfor\u001b[0m \u001b[0msample\u001b[0m \u001b[1;32min\u001b[0m \u001b[0muse_samples\u001b[0m\u001b[1;33m:\u001b[0m\u001b[1;33m\u001b[0m\u001b[1;33m\u001b[0m\u001b[0m\n\u001b[0;32m      5\u001b[0m   \u001b[1;31m# Generate a plot\u001b[0m\u001b[1;33m\u001b[0m\u001b[1;33m\u001b[0m\u001b[1;33m\u001b[0m\u001b[0m\n\u001b[1;32m----> 6\u001b[1;33m   \u001b[0mreshaped_image\u001b[0m \u001b[1;33m=\u001b[0m \u001b[0mX_test\u001b[0m\u001b[1;33m[\u001b[0m\u001b[0msample\u001b[0m\u001b[1;33m]\u001b[0m\u001b[1;33m\u001b[0m\u001b[1;33m\u001b[0m\u001b[0m\n\u001b[0m\u001b[0;32m      7\u001b[0m   \u001b[0mplt\u001b[0m\u001b[1;33m.\u001b[0m\u001b[0mimshow\u001b[0m\u001b[1;33m(\u001b[0m\u001b[0mreshaped_image\u001b[0m\u001b[1;33m)\u001b[0m\u001b[1;33m\u001b[0m\u001b[1;33m\u001b[0m\u001b[0m\n\u001b[0;32m      8\u001b[0m   \u001b[0mplt\u001b[0m\u001b[1;33m.\u001b[0m\u001b[0mshow\u001b[0m\u001b[1;33m(\u001b[0m\u001b[1;33m)\u001b[0m\u001b[1;33m\u001b[0m\u001b[1;33m\u001b[0m\u001b[0m\n",
      "\u001b[1;31mNameError\u001b[0m: name 'X_test' is not defined"
     ]
    }
   ],
   "source": [
    "use_samples = [5, 38, 3939,8786,1000] # samples\n",
    "samples_to_predict = []\n",
    "# Generate plots for samples\n",
    "for sample in use_samples:\n",
    "  # Generate a plot\n",
    "  reshaped_image = X_test[sample]\n",
    "  plt.imshow(reshaped_image)\n",
    "  plt.show()\n",
    "  samples_to_predict.append(X_test[sample])"
   ]
  },
  {
   "cell_type": "code",
   "execution_count": 2,
   "id": "df8877eb",
   "metadata": {},
   "outputs": [
    {
     "name": "stdout",
     "output_type": "stream",
     "text": [
      "(87867, 30, 30, 3) (87867,)\n",
      "(70293, 30, 30, 3) (17574, 30, 30, 3) (70293,) (17574,)\n",
      "Epoch 1/25\n",
      "1099/1099 [==============================] - 23s 21ms/step - loss: 2.4330 - accuracy: 0.3473 - val_loss: 1.3482 - val_accuracy: 0.6042\n",
      "Epoch 2/25\n",
      "1099/1099 [==============================] - 22s 20ms/step - loss: 1.3771 - accuracy: 0.5858 - val_loss: 0.8784 - val_accuracy: 0.7331\n",
      "Epoch 3/25\n",
      "1099/1099 [==============================] - 22s 20ms/step - loss: 1.0984 - accuracy: 0.6632 - val_loss: 0.7242 - val_accuracy: 0.7759\n",
      "Epoch 4/25\n",
      "1099/1099 [==============================] - 22s 20ms/step - loss: 0.9457 - accuracy: 0.7052 - val_loss: 0.6006 - val_accuracy: 0.8133\n",
      "Epoch 5/25\n",
      "1099/1099 [==============================] - 22s 20ms/step - loss: 0.8462 - accuracy: 0.7334 - val_loss: 0.5334 - val_accuracy: 0.8330\n",
      "Epoch 6/25\n",
      "1099/1099 [==============================] - 22s 20ms/step - loss: 0.7900 - accuracy: 0.7539 - val_loss: 0.5009 - val_accuracy: 0.8463\n",
      "Epoch 7/25\n",
      "1099/1099 [==============================] - 23s 21ms/step - loss: 0.7386 - accuracy: 0.7668 - val_loss: 0.4920 - val_accuracy: 0.8428\n",
      "Epoch 8/25\n",
      "1099/1099 [==============================] - 22s 20ms/step - loss: 0.7039 - accuracy: 0.7778 - val_loss: 0.5204 - val_accuracy: 0.8337\n",
      "Epoch 9/25\n",
      "1099/1099 [==============================] - 22s 20ms/step - loss: 0.6796 - accuracy: 0.7851 - val_loss: 0.4483 - val_accuracy: 0.8584\n",
      "Epoch 10/25\n",
      "1099/1099 [==============================] - 22s 20ms/step - loss: 0.6425 - accuracy: 0.7970 - val_loss: 0.3977 - val_accuracy: 0.8725\n",
      "Epoch 11/25\n",
      "1099/1099 [==============================] - 23s 21ms/step - loss: 0.6356 - accuracy: 0.7990 - val_loss: 0.4225 - val_accuracy: 0.8617\n",
      "Epoch 12/25\n",
      "1099/1099 [==============================] - 22s 20ms/step - loss: 0.6078 - accuracy: 0.8068 - val_loss: 0.3638 - val_accuracy: 0.8868\n",
      "Epoch 13/25\n",
      "1099/1099 [==============================] - 22s 20ms/step - loss: 0.6069 - accuracy: 0.8079 - val_loss: 0.4302 - val_accuracy: 0.8583\n",
      "Epoch 14/25\n",
      "1099/1099 [==============================] - 22s 20ms/step - loss: 0.5771 - accuracy: 0.8177 - val_loss: 0.3714 - val_accuracy: 0.8806\n",
      "Epoch 15/25\n",
      "1099/1099 [==============================] - 22s 20ms/step - loss: 0.5698 - accuracy: 0.8206 - val_loss: 0.4068 - val_accuracy: 0.8695\n",
      "Epoch 16/25\n",
      "1099/1099 [==============================] - 22s 20ms/step - loss: 0.5554 - accuracy: 0.8237 - val_loss: 0.3772 - val_accuracy: 0.8767\n",
      "Epoch 17/25\n",
      "1099/1099 [==============================] - 23s 21ms/step - loss: 0.5491 - accuracy: 0.8267 - val_loss: 0.3918 - val_accuracy: 0.8736\n",
      "Epoch 18/25\n",
      "1099/1099 [==============================] - 22s 20ms/step - loss: 0.5469 - accuracy: 0.8283 - val_loss: 0.3393 - val_accuracy: 0.8886\n",
      "Epoch 19/25\n",
      "1099/1099 [==============================] - 22s 20ms/step - loss: 0.5452 - accuracy: 0.8279 - val_loss: 0.3790 - val_accuracy: 0.8792\n",
      "Epoch 20/25\n",
      "1099/1099 [==============================] - 22s 20ms/step - loss: 0.5197 - accuracy: 0.8366 - val_loss: 0.3109 - val_accuracy: 0.8993\n",
      "Epoch 21/25\n",
      "1099/1099 [==============================] - 23s 21ms/step - loss: 0.5352 - accuracy: 0.8324 - val_loss: 0.3281 - val_accuracy: 0.8939\n",
      "Epoch 22/25\n",
      "1099/1099 [==============================] - 23s 21ms/step - loss: 0.5160 - accuracy: 0.8374 - val_loss: 0.2991 - val_accuracy: 0.9026\n",
      "Epoch 23/25\n",
      "1099/1099 [==============================] - 22s 20ms/step - loss: 0.5206 - accuracy: 0.8366 - val_loss: 0.3706 - val_accuracy: 0.8798\n",
      "Epoch 24/25\n",
      "1099/1099 [==============================] - 22s 20ms/step - loss: 0.5206 - accuracy: 0.8367 - val_loss: 0.3019 - val_accuracy: 0.9036\n",
      "Epoch 25/25\n",
      "1099/1099 [==============================] - 23s 21ms/step - loss: 0.5162 - accuracy: 0.8376 - val_loss: 0.3269 - val_accuracy: 0.8922\n"
     ]
    }
   ],
   "source": [
    "import tensorflow as tf\n",
    "import numpy as np\n",
    "import matplotlib.pyplot as plt\n",
    "import tensorflow as tf\n",
    "import os\n",
    "from PIL import Image\n",
    "\n",
    "from tensorflow.keras.utils import to_categorical\n",
    "from sklearn.model_selection import train_test_split\n",
    "from keras.models import Sequential\n",
    "from keras.layers import Conv2D,MaxPool2D,Dense,Flatten,Dropout,GaussianNoise\n",
    "from tensorflow.keras.models import Sequential, save_model, load_model\n",
    "data=[]\n",
    "labels=[]\n",
    "classes=38\n",
    "datadir=\"D:/train\"\n",
    "categories=[\"Apple___Apple_scab\",\"Apple___Black_rot\",\"Apple___Cedar_apple_rust\",\"Apple___healthy\",\"Blueberry___healthy\",\"Cherry_(including_sour)___healthy\",\"Cherry_(including_sour)___Powdery_mildew\",\"Corn_(maize)___Cercospora_leaf_spot Gray_leaf_spot\",\"Corn_(maize)___Common_rust_\",\"Corn_(maize)___healthy\",\"Corn_(maize)___Northern_Leaf_Blight\",\"Grape___Black_rot\",\"Grape___Esca_(Black_Measles)\",\"Grape___healthy\",\"Grape___Leaf_blight_(Isariopsis_Leaf_Spot)\",\"Orange___Haunglongbing_(Citrus_greening)\",\"Peach___Bacterial_spot\",\"Peach___healthy\",\"Pepper,_bell___Bacterial_spot\",\"Pepper,_bell___healthy\",\"Potato___Early_blight\",\"Potato___healthy\",\"Potato___Late_blight\",\"Raspberry___healthy\",\"Soybean___healthy\",\"Squash___Powdery_mildew\",\"Strawberry___healthy\",\"Strawberry___Leaf_scorch\",\"Tomato___Bacterial_spot\",\"Tomato___Early_blight\",\"Tomato___healthy\",\"Tomato___Late_blight\",\"Tomato___Leaf_Mold\",\"Tomato___Septoria_leaf_spot\",\"Tomato___Spider_mites Two-spotted_spider_mite\",\"Tomato___Target_Spot\",\"Tomato___Tomato_mosaic_virus\",\"Tomato___Tomato_Yellow_Leaf_Curl_Virus\"]\n",
    "for i in range(classes):\n",
    "    path=os.path.join(datadir,categories[i-1])\n",
    "    for a in os.listdir(path):\n",
    "        image=Image.open(path+'\\\\'+a)\n",
    "        image=image.resize((30,30))\n",
    "        image=np.array(image)\n",
    "        data.append(image)\n",
    "        #print(len(data))\n",
    "        #print(data)\n",
    "        labels.append(i)\n",
    "        #plt.imshow(image)\n",
    "        #plt.show()\n",
    "data=np.array(data)\n",
    "labels=np.array(labels)\n",
    "print(data.shape,labels.shape)\n",
    "      \n",
    "        \n",
    "X_train,X_test,y_train,y_test=train_test_split(data,labels,test_size=0.2,random_state=42)\n",
    "print(X_train.shape,X_test.shape,y_train.shape,y_test.shape)\n",
    "y_train=to_categorical(y_train,38)\n",
    "y_test=to_categorical(y_test,38)\n",
    "\n",
    "model=Sequential()\n",
    "\n",
    "model.add(Conv2D(filters=16,kernel_size=(3,3),activation='relu',input_shape=(30,30,3)))\n",
    "model.add(MaxPool2D(pool_size=(2,2)))\n",
    "\n",
    "model.add(Conv2D(filters=32,kernel_size=(3,3),activation='relu'))\n",
    "model.add(MaxPool2D(pool_size=(2,2)))\n",
    "model.add(Dropout(rate=0.2))\n",
    "\n",
    "model.add(Conv2D(filters=64,kernel_size=(3,3),activation='relu'))\n",
    "model.add(MaxPool2D(pool_size=(2,2)))\n",
    "model.add(Dropout(rate=0.2))\n",
    "\n",
    "\n",
    "model.add(Flatten())\n",
    "\n",
    "model.add(Dense(256,activation='relu'))\n",
    "model.add(GaussianNoise(0.1))\n",
    "model.add(Dropout(rate=0.25))\n",
    "model.add(Dense(38,activation='softmax'))\n",
    "\n",
    "model.compile(loss='categorical_crossentropy',optimizer='adam',metrics=['accuracy'])\n",
    "epochs=25\n",
    "history=model.fit(X_train,y_train,batch_size=64,epochs=epochs,validation_data=(X_test,y_test))\n",
    "model.save(\"my_model1.h5\")"
   ]
  },
  {
   "cell_type": "code",
   "execution_count": null,
   "id": "4fb054f0",
   "metadata": {},
   "outputs": [],
   "source": []
  }
 ],
 "metadata": {
  "kernelspec": {
   "display_name": "Python 3 (ipykernel)",
   "language": "python",
   "name": "python3"
  },
  "language_info": {
   "codemirror_mode": {
    "name": "ipython",
    "version": 3
   },
   "file_extension": ".py",
   "mimetype": "text/x-python",
   "name": "python",
   "nbconvert_exporter": "python",
   "pygments_lexer": "ipython3",
   "version": "3.9.6"
  }
 },
 "nbformat": 4,
 "nbformat_minor": 5
}
